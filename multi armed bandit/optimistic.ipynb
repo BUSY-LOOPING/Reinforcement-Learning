{
 "cells": [
  {
   "cell_type": "code",
   "execution_count": 2,
   "id": "db71004d-cd5e-402e-8fc5-15998d5447de",
   "metadata": {},
   "outputs": [],
   "source": [
    "import numpy as np\n",
    "import matplotlib.pyplot as plt\n",
    "import tensorflow_probability as tfp\n",
    "\n",
    "Bernoulli = tfp.distributions.Bernoulli"
   ]
  },
  {
   "cell_type": "code",
   "execution_count": 5,
   "id": "2106cb96-857c-4f76-a7eb-235e50265319",
   "metadata": {},
   "outputs": [],
   "source": [
    "NUM_TRIALS = 10000\n",
    "BANDIT_PROBABILITIES = [0.2, 0.5, 0.75]"
   ]
  },
  {
   "cell_type": "code",
   "execution_count": 12,
   "id": "fa889aaf-6d62-4cc1-966c-c19a4bdf3347",
   "metadata": {},
   "outputs": [],
   "source": [
    "class Bandit :\n",
    "    def __init__ (self, p) :\n",
    "        self.p = p\n",
    "        self.p_estimate = 10\n",
    "        self.N = 1\n",
    "        self.bernoulli = Bernoulli(probs=self.p)\n",
    "        \n",
    "    def pull(self) :\n",
    "        #draws a 1 with prob p\n",
    "        #return np.random.random() < self.p\n",
    "        return self.bernoulli.sample().numpy()\n",
    "    \n",
    "    def update(self, x) :\n",
    "        self.N += 1\n",
    "        self.p_estimate = ((self.N - 1) * self.p_estimate + x) / self.N\n",
    "        \n",
    "def experiment() :\n",
    "    bandits = [Bandit(p) for p in BANDIT_PROBABILITIES]\n",
    "    \n",
    "    rewards = np.zeros(NUM_TRIALS)\n",
    "    for i in range(NUM_TRIALS) :\n",
    "        #use optimistic initial values to select the next bandit\n",
    "        j = np.argmax([b.p_estimate for b in bandits])\n",
    "        \n",
    "        #pull the arm with the largest sample\n",
    "        x = bandits[j].pull()\n",
    "        \n",
    "        #update the rewards log\n",
    "        rewards[i] = x\n",
    "        \n",
    "        #update the distribution for the bandit\n",
    "        bandits[j].update(x)\n",
    "        \n",
    "    for b in bandits:\n",
    "        print(f'Mean estimate : {b.p_estimate}')\n",
    "        \n",
    "    print(f'Total reward : {rewards.sum()}')\n",
    "    print(f'Overall win rate : {(rewards.sum() / NUM_TRIALS)}')\n",
    "    print(f'num of times selected each bandit : {[b.N for b in bandits]}')\n",
    "    \n",
    "    cumulative_rewards = np.cumsum(rewards)\n",
    "    win_rates = cumulative_rewards / (np.arange(NUM_TRIALS) + 1)\n",
    "    plt.ylim([0, 1])\n",
    "    plt.plot(win_rates)\n",
    "    plt.plot(np.ones(NUM_TRIALS) * np.max(BANDIT_PROBABILITIES))\n",
    "    plt.show()"
   ]
  },
  {
   "cell_type": "code",
   "execution_count": 13,
   "id": "5076f1bc-ebac-4ef6-a6dd-dd9ad6202d23",
   "metadata": {},
   "outputs": [
    {
     "name": "stdout",
     "output_type": "stream",
     "text": [
      "Mean estimate : 0.7142857142857143\n",
      "Mean estimate : 0.7407407407407405\n",
      "Mean estimate : 0.7484440875326249\n",
      "Total reward : 7456.0\n",
      "Overall win rate : 0.7456\n",
      "num of times selected each bandit : [14, 27, 9962]\n"
     ]
    },
    {
     "data": {
      "image/png": "[encoded data removed]",
      "text/plain": [
       "<Figure size 640x480 with 1 Axes>"
      ]
     },
     "metadata": {},
     "output_type": "display_data"
    }
   ],
   "source": [
    "if __name__ == '__main__' :\n",
    "    experiment()"
   ]
  },
  {
   "cell_type": "markdown",
   "id": "0cd742b9-cbb5-45f4-adec-a11c66c39299",
   "metadata": {},
   "source": [
    "## Output\n",
    "The mean estimate for the first two bandits remain at ~ 0.7 and not converege since we are using a greedy algorithm which only chooses optimal bandit (0.75 here)."
   ]
  },
  {
   "cell_type": "code",
   "execution_count": null,
   "id": "b98db692-3337-459b-8c48-275dc8d3608f",
   "metadata": {},
   "outputs": [],
   "source": []
  }
 ],
 "metadata": {
  "kernelspec": {
   "display_name": "venv",
   "language": "python",
   "name": "venv"
  },
  "language_info": {
   "codemirror_mode": {
    "name": "ipython",
    "version": 3
   },
   "file_extension": ".py",
   "mimetype": "text/x-python",
   "name": "python",
   "nbconvert_exporter": "python",
   "pygments_lexer": "ipython3",
   "version": "3.9.4"
  }
 },
 "nbformat": 4,
 "nbformat_minor": 5
}
