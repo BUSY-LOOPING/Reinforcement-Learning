{
 "cells": [
  {
   "cell_type": "code",
   "execution_count": 9,
   "id": "8428b1a8-16b3-466c-8795-95a5fd0d3065",
   "metadata": {},
   "outputs": [],
   "source": [
    "import numpy as np\n",
    "import tensorflow_probability as tfp\n",
    "import tensorflow as tf"
   ]
  },
  {
   "cell_type": "code",
   "execution_count": 31,
   "id": "0b227f5c-eb22-4dc5-9607-09f0a847a5c8",
   "metadata": {},
   "outputs": [],
   "source": [
    "probs = [0, 0.5, 1]"
   ]
  },
  {
   "cell_type": "code",
   "execution_count": 34,
   "id": "eb8dca9e-9be7-4706-a07e-5e04c8fb19ee",
   "metadata": {},
   "outputs": [
    {
     "data": {
      "text/plain": [
       "<tf.Tensor: shape=(3,), dtype=float64, numpy=array([0. , 0.5, 1. ])>"
      ]
     },
     "execution_count": 34,
     "metadata": {},
     "output_type": "execute_result"
    }
   ],
   "source": [
    "dist = tfp.distributions.Bernoulli(probs = probs, dtype=tf.float64)\n",
    "logits_hat = tf.reduce_mean(dist.sample(10), axis = 0)\n",
    "logits_hat"
   ]
  },
  {
   "cell_type": "code",
   "execution_count": 35,
   "id": "4809aa99-3c3b-447d-a996-349b7162a4da",
   "metadata": {},
   "outputs": [
    {
     "data": {
      "text/plain": [
       "<tf.Tensor: shape=(3,), dtype=float64, numpy=array([0.  , 0.55, 1.  ])>"
      ]
     },
     "execution_count": 35,
     "metadata": {},
     "output_type": "execute_result"
    }
   ],
   "source": [
    "dist = tfp.distributions.Bernoulli(probs = probs, dtype=tf.float64)\n",
    "logits_hat = tf.reduce_mean(dist.sample(100), axis = 0)\n",
    "logits_hat"
   ]
  },
  {
   "cell_type": "code",
   "execution_count": 36,
   "id": "a891f43e-c7ca-441d-bf34-d25efdf52cb3",
   "metadata": {},
   "outputs": [
    {
     "data": {
      "text/plain": [
       "<tf.Tensor: shape=(3,), dtype=float64, numpy=array([0.   , 0.513, 1.   ])>"
      ]
     },
     "execution_count": 36,
     "metadata": {},
     "output_type": "execute_result"
    }
   ],
   "source": [
    "dist = tfp.distributions.Bernoulli(probs = probs, dtype=tf.float64)\n",
    "logits_hat = tf.reduce_mean(dist.sample(1000), axis = 0)\n",
    "logits_hat"
   ]
  },
  {
   "cell_type": "code",
   "execution_count": null,
   "id": "e694f6cc-11c3-43e3-9bf5-f9a0a828e4f3",
   "metadata": {},
   "outputs": [],
   "source": []
  }
 ],
 "metadata": {
  "kernelspec": {
   "display_name": "venv",
   "language": "python",
   "name": "venv"
  },
  "language_info": {
   "codemirror_mode": {
    "name": "ipython",
    "version": 3
   },
   "file_extension": ".py",
   "mimetype": "text/x-python",
   "name": "python",
   "nbconvert_exporter": "python",
   "pygments_lexer": "ipython3",
   "version": "3.9.4"
  }
 },
 "nbformat": 4,
 "nbformat_minor": 5
}
