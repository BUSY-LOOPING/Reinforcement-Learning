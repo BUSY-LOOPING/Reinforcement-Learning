{
 "cells": [
  {
   "cell_type": "code",
   "execution_count": 1,
   "id": "6319b6d7-5a10-433d-b84e-ae336a665426",
   "metadata": {},
   "outputs": [],
   "source": [
    "import matplotlib.pyplot as plt\n",
    "import numpy as np"
   ]
  },
  {
   "cell_type": "code",
   "execution_count": 102,
   "id": "482527fc-d981-45f8-8e1e-c71cb602216c",
   "metadata": {},
   "outputs": [],
   "source": [
    "NUM_TRIALS = 10000\n",
    "EPS = 0.1\n",
    "b = 2\n",
    "c = 1\n",
    "BANDIT_PROBABILITIES = [0.2, 0.5, 0.75]\n",
    "\n",
    "def decaying_eps(t) :\n",
    "    return EPS / np.log(b * t + c)"
   ]
  },
  {
   "cell_type": "code",
   "execution_count": 104,
   "id": "74eb52eb-b1a6-4156-8676-d56850b9ed50",
   "metadata": {},
   "outputs": [],
   "source": [
    "class Bandit :\n",
    "    def __init__(self, p) :\n",
    "        #p : win rate\n",
    "        self.p = p\n",
    "        self.p_estimate = 0\n",
    "        self.N = 0 #no of samples\n",
    "        \n",
    "    def pull(self) :\n",
    "        #draws a 1 with probabilty p\n",
    "        return np.random.random() < self.p\n",
    "    \n",
    "    def update(self, x) :\n",
    "        self.N = self.N + 1\n",
    "        self.p_estimate = ((self.N - 1) * self.p_estimate + x) / self.N\n",
    "        \n",
    "def exeriment() :\n",
    "    bandits = [Bandit(p) for p in BANDIT_PROBABILITIES]\n",
    "\n",
    "    rewards = np.zeros(NUM_TRIALS)\n",
    "    num_times_explored = 0\n",
    "    num_times_exploited = 0\n",
    "    num_optimal = 0\n",
    "    optimal_j = np.argmax([b.p for b in bandits])\n",
    "    print(f'optimal_j : {optimal_j}')\n",
    "\n",
    "    for i in range(NUM_TRIALS) :\n",
    "\n",
    "        #use greedy epsilon to select the next bandit\n",
    "        if np.random.random() < decaying_eps(i + 1) :\n",
    "            num_times_explored += 1\n",
    "            j = np.random.choice(list(range(len(bandits))))  #j is the index of the predicted optimal bandit\n",
    "        else :\n",
    "            num_times_exploited += 1\n",
    "            j = np.argmax([b.p_estimate for b in bandits])\n",
    "\n",
    "        if j == optimal_j :\n",
    "            num_optimal += 1\n",
    "        #pull the arm of the bandit with the largest sample\n",
    "        x = bandits[j].pull()\n",
    "\n",
    "        #update the rewards log\n",
    "        rewards[i] = x\n",
    "\n",
    "        #update the distribution for the bandit arm we just pulled\n",
    "        bandits[j].update(x)\n",
    "        \n",
    "    #printing mean estimates of each bandit\n",
    "    for b in bandits :\n",
    "        print(f'Mean estimate : {b.p_estimate}')\n",
    "        \n",
    "    #total reward\n",
    "    print(f'Total reward earned : {rewards.sum()}')\n",
    "    print(f'Overall win rate : {rewards.sum() / NUM_TRIALS}')\n",
    "    print(f'Number of times explored : {num_times_explored}')\n",
    "    print(f'Number of times exploited : {num_times_exploited}')\n",
    "    print(f'Number of times selected optimal bandit : {num_optimal}')\n",
    "    \n",
    "    cumulative_rewards = np.cumsum(rewards)\n",
    "    win_rates = cumulative_rewards / (np.arange(NUM_TRIALS) + 1)\n",
    "    plt.plot(win_rates)\n",
    "    plt.plot(np.ones(NUM_TRIALS) * np.max(BANDIT_PROBABILITIES))\n",
    "    plt.show()"
   ]
  },
  {
   "cell_type": "code",
   "execution_count": 107,
   "id": "90f4c7c9-767b-4773-a53f-ad88e83287fc",
   "metadata": {},
   "outputs": [
    {
     "name": "stdout",
     "output_type": "stream",
     "text": [
      "optimal_j : 2\n",
      "Mean estimate : 0.22872340425531917\n",
      "Mean estimate : 0.3888888888888889\n",
      "Mean estimate : 0.7468289689034364\n",
      "Total reward earned : 7358.0\n",
      "Overall win rate : 0.7358\n",
      "Number of times explored : 117\n",
      "Number of times exploited : 9883\n",
      "Number of times selected optimal bandit : 9776\n"
     ]
    },
    {
     "data": {
      "image/png": "[encoded data removed]",
      "text/plain": [
       "<Figure size 640x480 with 1 Axes>"
      ]
     },
     "metadata": {},
     "output_type": "display_data"
    }
   ],
   "source": [
    "if __name__ == '__main__' :\n",
    "    exeriment()"
   ]
  },
  {
   "cell_type": "code",
   "execution_count": null,
   "id": "724ffad7-8589-49cf-a5e7-d112b91568bc",
   "metadata": {},
   "outputs": [],
   "source": []
  }
 ],
 "metadata": {
  "kernelspec": {
   "display_name": "venv",
   "language": "python",
   "name": "venv"
  },
  "language_info": {
   "codemirror_mode": {
    "name": "ipython",
    "version": 3
   },
   "file_extension": ".py",
   "mimetype": "text/x-python",
   "name": "python",
   "nbconvert_exporter": "python",
   "pygments_lexer": "ipython3",
   "version": "3.9.4"
  }
 },
 "nbformat": 4,
 "nbformat_minor": 5
}
