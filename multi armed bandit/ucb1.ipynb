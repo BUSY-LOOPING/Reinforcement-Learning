{
 "cells": [
  {
   "cell_type": "code",
   "execution_count": 1,
   "id": "eebf2534-19b1-4cac-b429-787c60196850",
   "metadata": {},
   "outputs": [],
   "source": [
    "import numpy as np\n",
    "import matplotlib.pyplot as plt"
   ]
  },
  {
   "cell_type": "code",
   "execution_count": 10,
   "id": "fa83dcdf-9413-4975-a300-bf5464edd3bf",
   "metadata": {},
   "outputs": [],
   "source": [
    "NUM_TRIALS = 100000\n",
    "EPS = 0.1\n",
    "BANDIT_PROBABILITIES = [0.2, 0.5, 0.75]"
   ]
  },
  {
   "cell_type": "code",
   "execution_count": 11,
   "id": "188b1cf7-70ac-4082-87cf-859636bf55a2",
   "metadata": {},
   "outputs": [],
   "source": [
    "class Bandit :\n",
    "    def __init__(self, p) :\n",
    "        #p : actual win rates\n",
    "        self.p = p\n",
    "        self.p_estimate = 0.\n",
    "        self.N = 0\n",
    "    \n",
    "    def pull(self) :\n",
    "        #draws a 1 with probabilty p\n",
    "        return np.random.random() < self.p\n",
    "    \n",
    "    def update(self, x) :\n",
    "        self.N +=1 \n",
    "        self.p_estimate = ((self.N - 1) * self.p_estimate + x) / self.N\n",
    "        \n",
    "def ucb(mean, N, nj) :\n",
    "    '''\n",
    "    Returns a value that we want to be greedy with respect to\n",
    "    ----------\n",
    "    \n",
    "    Parameters\n",
    "    ----------\n",
    "    mean : float\n",
    "    mean of samples explored for the bandit\n",
    "    \n",
    "    N : int\n",
    "    total number of plays made so far\n",
    "    \n",
    "    nj : int\n",
    "    total number of times we played the particular bandit\n",
    "    '''\n",
    "    assert N > 0\n",
    "    assert nj > 0\n",
    "    return (mean + np.sqrt(2 * np.log(N) / nj))\n",
    "\n",
    "def experiment() :\n",
    "    bandits = [Bandit(p) for p in BANDIT_PROBABILITIES]\n",
    "    rewards = np.zeros(NUM_TRIALS)\n",
    "    total_plays = 0\n",
    "    \n",
    "    #initialization of each bandit once\n",
    "    for j in range(len(bandits)) :\n",
    "        x = bandits[j].pull()\n",
    "        bandits[j].update(x)\n",
    "        rewards[j] = x\n",
    "    \n",
    "    for i in range(len(bandits), NUM_TRIALS) :\n",
    "        j = np.argmax([ucb(b.p_estimate, i, b.N) for b in bandits])\n",
    "        x = bandits[j].pull()\n",
    "        total_plays += 1\n",
    "        bandits[j].update(x)\n",
    "        \n",
    "        rewards[i] = x\n",
    "        \n",
    "    for b in bandits:\n",
    "        print(f'Mean estimate : {b.p_estimate}')\n",
    "        \n",
    "    print(f'Total reward : {rewards.sum()}')\n",
    "    print(f'Overall win rate : {(rewards.sum() / NUM_TRIALS)}')\n",
    "    print(f'num of times selected each bandit : {[b.N for b in bandits]}')\n",
    "    \n",
    "    cumulative_rewards = np.cumsum(rewards)\n",
    "    win_rates = cumulative_rewards / (np.arange(NUM_TRIALS) + 1)\n",
    "    plt.xscale('log')\n",
    "    plt.plot(win_rates)\n",
    "    plt.plot(np.ones(NUM_TRIALS) * np.max(BANDIT_PROBABILITIES))\n",
    "    plt.show()"
   ]
  },
  {
   "cell_type": "code",
   "execution_count": 12,
   "id": "1f611293-5700-4870-b0a4-4b54b8670115",
   "metadata": {},
   "outputs": [
    {
     "name": "stdout",
     "output_type": "stream",
     "text": [
      "Mean estimate : 0.19444444444444442\n",
      "Mean estimate : 0.513440860215054\n",
      "Mean estimate : 0.7486339346699392\n",
      "Total reward : 74736.0\n",
      "Overall win rate : 0.74736\n",
      "num of times selected each bandit : [72, 372, 99556]\n"
     ]
    },
    {
     "data": {
      "image/png": "[encoded data removed]",
      "text/plain": [
       "<Figure size 640x480 with 1 Axes>"
      ]
     },
     "metadata": {},
     "output_type": "display_data"
    }
   ],
   "source": [
    "if __name__ == '__main__' :\n",
    "    experiment()"
   ]
  },
  {
   "cell_type": "code",
   "execution_count": null,
   "id": "3f4ea25c-ae25-4783-9785-39352ee60420",
   "metadata": {},
   "outputs": [],
   "source": []
  }
 ],
 "metadata": {
  "kernelspec": {
   "display_name": "venv",
   "language": "python",
   "name": "venv"
  },
  "language_info": {
   "codemirror_mode": {
    "name": "ipython",
    "version": 3
   },
   "file_extension": ".py",
   "mimetype": "text/x-python",
   "name": "python",
   "nbconvert_exporter": "python",
   "pygments_lexer": "ipython3",
   "version": "3.9.4"
  }
 },
 "nbformat": 4,
 "nbformat_minor": 5
}
