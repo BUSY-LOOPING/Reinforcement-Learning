{
 "cells": [
  {
   "cell_type": "code",
   "execution_count": 1,
   "id": "50ac5084-c3ee-4728-8865-6d8242adbebb",
   "metadata": {},
   "outputs": [
    {
     "name": "stdout",
     "output_type": "stream",
     "text": [
      "importing Jupyter notebook from grid_world.ipynb\n",
      "importing Jupyter notebook from iterative_policy_evaluation_deterministic.ipynb\n"
     ]
    }
   ],
   "source": [
    "import numpy as np\n",
    "import os\n",
    "os.chdir(os.path.join('..', 'dynamic_programming'))\n",
    "import import_ipynb\n",
    "from grid_world import standard_grid, ACTION_SPACE\n",
    "from iterative_policy_evaluation_deterministic import print_policy, print_values"
   ]
  },
  {
   "cell_type": "code",
   "execution_count": 2,
   "id": "e55279a4-779a-4188-902f-7bbc96e2c4b0",
   "metadata": {},
   "outputs": [],
   "source": [
    "GAMMA = 0.9"
   ]
  },
  {
   "cell_type": "code",
   "execution_count": 3,
   "id": "3746fe09-b7b6-476f-8795-b9e12e67e7e9",
   "metadata": {},
   "outputs": [],
   "source": [
    "def play_game(grid, policy, max_steps = 20) :\n",
    "    allowable_states = grid.actions.keys()\n",
    "    grid.set_state(list(allowable_states) [np.random.choice(len(allowable_states))])\n",
    "    \n",
    "    s = grid.current_state()\n",
    "    states = [s]\n",
    "    rewards = [0]\n",
    "    count = 0\n",
    "    while not grid.game_over() and count < max_steps :\n",
    "        a = policy[s]\n",
    "        r = grid.move(a)\n",
    "        s = grid.current_state()\n",
    "        \n",
    "        #update\n",
    "        rewards.append(r)\n",
    "        states.append(s)\n",
    "        count += 1\n",
    "        \n",
    "    return states, rewards"
   ]
  },
  {
   "cell_type": "code",
   "execution_count": 4,
   "id": "3f6e4879-fd94-4da9-a809-92021a0d381c",
   "metadata": {},
   "outputs": [
    {
     "name": "stdout",
     "output_type": "stream",
     "text": [
      "Rewards\n",
      "+---+---+---+----+\n",
      "| 0 | 0 | 0 |  1 |\n",
      "+---+---+---+----+\n",
      "| 0 | 0 | 0 | -1 |\n",
      "+---+---+---+----+\n",
      "| 0 | 0 | 0 |  0 |\n",
      "+---+---+---+----+\n",
      "Values\n",
      "+-------+--------+--------+--------+\n",
      "| 0.810 |  0.900 |  1.000 |  0.000 |\n",
      "+-------+--------+--------+--------+\n",
      "| 0.729 |  0.000 | -1.000 |  0.000 |\n",
      "+-------+--------+--------+--------+\n",
      "| 0.656 | -0.810 | -0.900 | -0.810 |\n",
      "+-------+--------+--------+--------+\n",
      "Policy\n",
      "+---+---+---+---+\n",
      "| R | R | R |   |\n",
      "+---+---+---+---+\n",
      "| U |   | R |   |\n",
      "+---+---+---+---+\n",
      "| U | R | U | L |\n",
      "+---+---+---+---+\n"
     ]
    }
   ],
   "source": [
    "if __name__ == '__main__' :\n",
    "    grid = standard_grid()\n",
    "    \n",
    "    print('Rewards')\n",
    "    print_values(grid.rewards, grid)\n",
    "    \n",
    "    policy = {\n",
    "        (0, 0) : 'R',\n",
    "        (0, 1) : 'R',\n",
    "        (0, 2) : 'R',\n",
    "        (1, 0) : 'U',\n",
    "        (1, 2) : 'R',\n",
    "        (2, 0) : 'U',\n",
    "        (2, 1) : 'R',\n",
    "        (2, 2) : 'U',\n",
    "        (2, 3) : 'L'\n",
    "    }\n",
    "    \n",
    "    V = {}\n",
    "    returns = {}\n",
    "    for s in grid.all_states() :\n",
    "        if grid.is_terminal(s) :\n",
    "            V[s] = 0\n",
    "        else :\n",
    "            returns[s] = []\n",
    "    \n",
    "    #loop until convergence\n",
    "    for i in range(100) :\n",
    "        states, rewards = play_game(grid, policy, max_steps=20)\n",
    "        G = 0 #holds the return for each step\n",
    "        for t in range(len(states) - 2, -1, -1) :\n",
    "            G = rewards[t + 1] + GAMMA * G\n",
    "            s_t = states[t]\n",
    "            \n",
    "            #first visit Monte Carlo\n",
    "            if s_t not in states[:t]:\n",
    "                returns[s_t].append(G)\n",
    "                V[s_t] = np.mean(returns[s_t])\n",
    "    \n",
    "    print('Values')\n",
    "    print_values(V, grid)\n",
    "    print('Policy')\n",
    "    print_policy(policy, grid)"
   ]
  },
  {
   "cell_type": "code",
   "execution_count": null,
   "id": "1cf2c7e3-8ddb-4873-bfdb-d8df4c9a2af0",
   "metadata": {},
   "outputs": [],
   "source": []
  }
 ],
 "metadata": {
  "kernelspec": {
   "display_name": "data_science",
   "language": "python",
   "name": "data_science"
  },
  "language_info": {
   "codemirror_mode": {
    "name": "ipython",
    "version": 3
   },
   "file_extension": ".py",
   "mimetype": "text/x-python",
   "name": "python",
   "nbconvert_exporter": "python",
   "pygments_lexer": "ipython3",
   "version": "3.10.9"
  }
 },
 "nbformat": 4,
 "nbformat_minor": 5
}
