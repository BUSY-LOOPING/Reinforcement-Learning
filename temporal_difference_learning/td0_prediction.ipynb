{
 "cells": [
  {
   "cell_type": "code",
   "execution_count": 1,
   "id": "11f5b320-c33d-4984-b5e1-2b4e763ac222",
   "metadata": {},
   "outputs": [
    {
     "name": "stdout",
     "output_type": "stream",
     "text": [
      "importing Jupyter notebook from grid_world.ipynb\n",
      "importing Jupyter notebook from iterative_policy_evaluation_deterministic.ipynb\n"
     ]
    }
   ],
   "source": [
    "import numpy as np\n",
    "import matplotlib.pyplot as plt\n",
    "import os\n",
    "import pandas as pd\n",
    "os.chdir(os.path.join('..', 'dynamic_programming'))\n",
    "import import_ipynb\n",
    "from grid_world import standard_grid, negative_grid, ACTION_SPACE\n",
    "from iterative_policy_evaluation_deterministic import print_policy, print_values"
   ]
  },
  {
   "cell_type": "code",
   "execution_count": 2,
   "id": "170a106d-da57-4107-84ed-a9389091d251",
   "metadata": {},
   "outputs": [],
   "source": [
    "ALPHA = 0.1\n",
    "GAMMA = 0.9"
   ]
  },
  {
   "cell_type": "code",
   "execution_count": 3,
   "id": "ddb82270-f257-4738-a220-6ae5d287d547",
   "metadata": {},
   "outputs": [],
   "source": [
    "def epsilon_greedy(greedy_policy, s, grid, eps = 0.1) :\n",
    "    if np.random.random() < (1 - eps) :\n",
    "        return greedy_policy[s]\n",
    "    else :\n",
    "        return np.random.choice(grid.actions[s])"
   ]
  },
  {
   "cell_type": "code",
   "execution_count": 12,
   "id": "386287f5-9d8e-4675-85e7-2b5a33dfef06",
   "metadata": {},
   "outputs": [
    {
     "name": "stdout",
     "output_type": "stream",
     "text": [
      "Rewards\n",
      "+---+---+---+----+\n",
      "| 0 | 0 | 0 |  1 |\n",
      "+---+---+---+----+\n",
      "| 0 | 0 | 0 | -1 |\n",
      "+---+---+---+----+\n",
      "| 0 | 0 | 0 |  0 |\n",
      "+---+---+---+----+\n",
      "Policy\n",
      "+---+---+---+---+\n",
      "| R | R | R |   |\n",
      "+---+---+---+---+\n",
      "| U |   | D |   |\n",
      "+---+---+---+---+\n",
      "| U | L | L | R |\n",
      "+---+---+---+---+\n",
      "Values\n",
      "+-------+-------+-------+--------+\n",
      "| 0.798 | 0.885 | 0.971 |  0.000 |\n",
      "+-------+-------+-------+--------+\n",
      "| 0.702 | 0.000 | 0.010 |  0.000 |\n",
      "+-------+-------+-------+--------+\n",
      "| 0.607 | 0.538 | 0.422 | -0.021 |\n",
      "+-------+-------+-------+--------+\n"
     ]
    },
    {
     "data": {
      "image/png": "[encoded data removed]",
      "text/plain": [
       "<Figure size 640x480 with 1 Axes>"
      ]
     },
     "metadata": {},
     "output_type": "display_data"
    }
   ],
   "source": [
    "if __name__ == '__main__' :\n",
    "    grid = standard_grid()\n",
    "    \n",
    "    #initialize V\n",
    "    V = {}\n",
    "    for s in grid.all_states() :\n",
    "        V[s] = 0\n",
    "    \n",
    "    policy = {\n",
    "        (0, 0): 'R',\n",
    "        (0, 1): 'R',\n",
    "        (0, 2): 'R',\n",
    "        (1, 0): 'U',\n",
    "        (1, 2): 'D',\n",
    "        (2, 0): 'U',\n",
    "        (2, 1): 'L',\n",
    "        (2, 2): 'L',\n",
    "        (2, 3): 'R'\n",
    "    }\n",
    "    \n",
    "    state_sample_count = pd.DataFrame(np.zeros((3, 4)), dtype=np.int32)\n",
    "    deltas = []\n",
    "    \n",
    "    print('Rewards')\n",
    "    print_values(grid.rewards, grid)\n",
    "    \n",
    "    print('Policy')\n",
    "    print_policy(policy, grid)\n",
    "    \n",
    "    for i in range(10000) :\n",
    "        s = grid.reset()\n",
    "        \n",
    "        delta = 0\n",
    "        while not grid.is_terminal(s) : \n",
    "            a = epsilon_greedy(policy, s, grid, eps = 0.1)\n",
    "            r = grid.move(a)\n",
    "            s_next = grid.current_state()\n",
    "            state_sample_count.iloc[s] = state_sample_count.iloc[s] + 1\n",
    "            V_old = V[s]\n",
    "            V[s] = V[s] + ALPHA * (r + GAMMA * V[s_next] - V[s])\n",
    "            delta = max(delta, np.abs(V_old - V[s]))\n",
    "            s = s_next\n",
    "            \n",
    "        deltas.append(delta)\n",
    "    \n",
    "    print('Values')\n",
    "    print_values(V, grid)\n",
    "    \n",
    "    plt.plot(deltas)\n",
    "    plt.title('Deltas')"
   ]
  },
  {
   "cell_type": "code",
   "execution_count": 13,
   "id": "b78eb81b-67d3-4a52-a752-372fce2611ef",
   "metadata": {},
   "outputs": [
    {
     "data": {
      "text/html": [
       "<div>\n",
       "<style scoped>\n",
       "    .dataframe tbody tr th:only-of-type {\n",
       "        vertical-align: middle;\n",
       "    }\n",
       "\n",
       "    .dataframe tbody tr th {\n",
       "        vertical-align: top;\n",
       "    }\n",
       "\n",
       "    .dataframe thead th {\n",
       "        text-align: right;\n",
       "    }\n",
       "</style>\n",
       "<table border=\"1\" class=\"dataframe\">\n",
       "  <thead>\n",
       "    <tr style=\"text-align: right;\">\n",
       "      <th></th>\n",
       "      <th>0</th>\n",
       "      <th>1</th>\n",
       "      <th>2</th>\n",
       "      <th>3</th>\n",
       "    </tr>\n",
       "  </thead>\n",
       "  <tbody>\n",
       "    <tr>\n",
       "      <th>0</th>\n",
       "      <td>11108</td>\n",
       "      <td>11064</td>\n",
       "      <td>10496</td>\n",
       "      <td>0</td>\n",
       "    </tr>\n",
       "    <tr>\n",
       "      <th>1</th>\n",
       "      <td>11084</td>\n",
       "      <td>0</td>\n",
       "      <td>1</td>\n",
       "      <td>0</td>\n",
       "    </tr>\n",
       "    <tr>\n",
       "      <th>2</th>\n",
       "      <td>11140</td>\n",
       "      <td>637</td>\n",
       "      <td>45</td>\n",
       "      <td>73</td>\n",
       "    </tr>\n",
       "  </tbody>\n",
       "</table>\n",
       "</div>"
      ],
      "text/plain": [
       "       0      1      2   3\n",
       "0  11108  11064  10496   0\n",
       "1  11084      0      1   0\n",
       "2  11140    637     45  73"
      ]
     },
     "execution_count": 13,
     "metadata": {},
     "output_type": "execute_result"
    }
   ],
   "source": [
    "state_sample_count"
   ]
  },
  {
   "cell_type": "code",
   "execution_count": null,
   "id": "74fd085a-af53-40f0-b1a1-b7c804fded21",
   "metadata": {},
   "outputs": [],
   "source": []
  }
 ],
 "metadata": {
  "kernelspec": {
   "display_name": "data_science",
   "language": "python",
   "name": "data_science"
  },
  "language_info": {
   "codemirror_mode": {
    "name": "ipython",
    "version": 3
   },
   "file_extension": ".py",
   "mimetype": "text/x-python",
   "name": "python",
   "nbconvert_exporter": "python",
   "pygments_lexer": "ipython3",
   "version": "3.10.9"
  }
 },
 "nbformat": 4,
 "nbformat_minor": 5
}
