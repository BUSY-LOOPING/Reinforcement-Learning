{
 "cells": [
  {
   "cell_type": "code",
   "execution_count": 1,
   "id": "43e15ff6-7291-41d1-aaf3-b7e9ef2e9b3b",
   "metadata": {},
   "outputs": [
    {
     "name": "stdout",
     "output_type": "stream",
     "text": [
      "importing Jupyter notebook from grid_world.ipynb\n",
      "importing Jupyter notebook from iterative_policy_evaluation_deterministic.ipynb\n"
     ]
    }
   ],
   "source": [
    "import numpy as np\n",
    "import matplotlib.pyplot as plt\n",
    "import os\n",
    "import pandas as pd\n",
    "os.chdir(os.path.join('..', 'dynamic_programming'))\n",
    "import import_ipynb\n",
    "from grid_world import standard_grid, negative_grid, ACTION_SPACE\n",
    "from iterative_policy_evaluation_deterministic import print_policy, print_values"
   ]
  },
  {
   "cell_type": "code",
   "execution_count": 27,
   "id": "ad6105f5-0747-4bcc-a380-f17945d9db82",
   "metadata": {},
   "outputs": [],
   "source": [
    "GAMMA = 0.9\n",
    "ALPHA = 0.1\n",
    "SMALL_ENOUGH = 1e-5"
   ]
  },
  {
   "cell_type": "code",
   "execution_count": 22,
   "id": "30d5b19c-49b4-4238-bbb0-1d67463f948f",
   "metadata": {},
   "outputs": [],
   "source": [
    "def epsilon_greedy(greedy_policy, grid, eps = 0.1) :\n",
    "    if np.random.random() < (1 - eps) :\n",
    "        indices = np.where(greedy_policy == np.max(greedy_policy))[0]\n",
    "        return ACTION_SPACE[np.random.choice(indices)]\n",
    "    else :\n",
    "        return np.random.choice(grid.actions[s])"
   ]
  },
  {
   "cell_type": "code",
   "execution_count": 36,
   "id": "2b0ea37d-b0c1-46a3-8977-26bb327128ff",
   "metadata": {},
   "outputs": [
    {
     "name": "stdout",
     "output_type": "stream",
     "text": [
      "Rewards\n",
      "+--------+--------+--------+--------+\n",
      "| -0.100 | -0.100 | -0.100 |  1.000 |\n",
      "+--------+--------+--------+--------+\n",
      "| -0.100 |  0.000 | -0.100 | -1.000 |\n",
      "+--------+--------+--------+--------+\n",
      "| -0.100 | -0.100 | -0.100 | -0.100 |\n",
      "+--------+--------+--------+--------+\n",
      "Policy\n",
      "+---+---+---+---+\n",
      "| R | R | R |   |\n",
      "+---+---+---+---+\n",
      "| U |   | U |   |\n",
      "+---+---+---+---+\n",
      "| U | R | U | L |\n",
      "+---+---+---+---+\n",
      "Values\n",
      "+-------+-------+-------+-------+\n",
      "| 0.602 | 0.793 | 1.000 | 0.000 |\n",
      "+-------+-------+-------+-------+\n",
      "| 0.426 | 0.000 | 0.752 | 0.000 |\n",
      "+-------+-------+-------+-------+\n",
      "| 0.277 | 0.327 | 0.399 | 0.358 |\n",
      "+-------+-------+-------+-------+\n"
     ]
    },
    {
     "data": {
      "image/png": "[encoded data removed]",
      "text/plain": [
       "<Figure size 640x480 with 1 Axes>"
      ]
     },
     "metadata": {},
     "output_type": "display_data"
    }
   ],
   "source": [
    "if __name__ == '__main__' :\n",
    "    grid = negative_grid()\n",
    "    \n",
    "    print('Rewards')\n",
    "    print_values(grid.rewards, grid)\n",
    "    \n",
    "    Q = pd.DataFrame(0,index=pd.Index(grid.all_states()), columns=ACTION_SPACE)\n",
    "    Q = Q.sort_index()\n",
    "    \n",
    "    reward_per_episode = []\n",
    "    state_sample_count = pd.DataFrame(np.zeros((3, 4)), dtype=np.int32)\n",
    "    for i in range(10000) :\n",
    "        s = grid.reset()\n",
    "        a = epsilon_greedy(Q.loc[s, :], grid, eps = 0.1)\n",
    "        \n",
    "        epsiode_reward = 0\n",
    "        while not grid.game_over():\n",
    "            state_sample_count.iloc[s] = state_sample_count.iloc[s] + 1\n",
    "            r = grid.move(a)\n",
    "            s_next = grid.current_state()\n",
    "            a_next = epsilon_greedy(Q.loc[s_next, :], grid, eps = 0.1)\n",
    "            Q_old = Q.loc[s, a]\n",
    "            Q.loc[s, a] = Q.loc[s, a] + ALPHA * (r + GAMMA * Q.loc[s_next, a_next] - Q.loc[s, a])\n",
    "            s = s_next\n",
    "            a = a_next\n",
    "            epsiode_reward += r\n",
    "        reward_per_episode.append(r)\n",
    "    \n",
    "    V = {}\n",
    "    policy = {}\n",
    "    for i, row in Q.iterrows():\n",
    "        V[i] = np.max(row)\n",
    "        if not grid.is_terminal(i) :\n",
    "            policy[i] = ACTION_SPACE[np.argmax(row)]\n",
    "        \n",
    "    print('Policy')\n",
    "    print_policy(policy, grid)\n",
    "    \n",
    "    print('Values')\n",
    "    print_values(V, grid)\n",
    "    \n",
    "    plt.plot(reward_per_episode)\n",
    "    plt.title('Rewards per episode')\n",
    "    \n",
    "    "
   ]
  },
  {
   "cell_type": "code",
   "execution_count": 38,
   "id": "e4e4a74a-d293-4d72-a04c-95330b2aa9d9",
   "metadata": {},
   "outputs": [
    {
     "data": {
      "text/html": [
       "<div>\n",
       "<style scoped>\n",
       "    .dataframe tbody tr th:only-of-type {\n",
       "        vertical-align: middle;\n",
       "    }\n",
       "\n",
       "    .dataframe tbody tr th {\n",
       "        vertical-align: top;\n",
       "    }\n",
       "\n",
       "    .dataframe thead th {\n",
       "        text-align: right;\n",
       "    }\n",
       "</style>\n",
       "<table border=\"1\" class=\"dataframe\">\n",
       "  <thead>\n",
       "    <tr style=\"text-align: right;\">\n",
       "      <th></th>\n",
       "      <th></th>\n",
       "      <th>U</th>\n",
       "      <th>D</th>\n",
       "      <th>L</th>\n",
       "      <th>R</th>\n",
       "    </tr>\n",
       "  </thead>\n",
       "  <tbody>\n",
       "    <tr>\n",
       "      <th rowspan=\"4\" valign=\"top\">0</th>\n",
       "      <th>0</th>\n",
       "      <td>0.407331</td>\n",
       "      <td>0.253316</td>\n",
       "      <td>-0.065939</td>\n",
       "      <td>0.601829</td>\n",
       "    </tr>\n",
       "    <tr>\n",
       "      <th>1</th>\n",
       "      <td>-0.028964</td>\n",
       "      <td>0.600116</td>\n",
       "      <td>0.407420</td>\n",
       "      <td>0.792578</td>\n",
       "    </tr>\n",
       "    <tr>\n",
       "      <th>2</th>\n",
       "      <td>0.793432</td>\n",
       "      <td>0.784463</td>\n",
       "      <td>0.561426</td>\n",
       "      <td>1.000000</td>\n",
       "    </tr>\n",
       "    <tr>\n",
       "      <th>3</th>\n",
       "      <td>0.000000</td>\n",
       "      <td>0.000000</td>\n",
       "      <td>0.000000</td>\n",
       "      <td>0.000000</td>\n",
       "    </tr>\n",
       "    <tr>\n",
       "      <th rowspan=\"3\" valign=\"top\">1</th>\n",
       "      <th>0</th>\n",
       "      <td>0.425737</td>\n",
       "      <td>0.123929</td>\n",
       "      <td>-0.120339</td>\n",
       "      <td>0.276312</td>\n",
       "    </tr>\n",
       "    <tr>\n",
       "      <th>2</th>\n",
       "      <td>0.752032</td>\n",
       "      <td>0.087760</td>\n",
       "      <td>0.577207</td>\n",
       "      <td>-0.998383</td>\n",
       "    </tr>\n",
       "    <tr>\n",
       "      <th>3</th>\n",
       "      <td>0.000000</td>\n",
       "      <td>0.000000</td>\n",
       "      <td>0.000000</td>\n",
       "      <td>0.000000</td>\n",
       "    </tr>\n",
       "    <tr>\n",
       "      <th rowspan=\"4\" valign=\"top\">2</th>\n",
       "      <th>0</th>\n",
       "      <td>0.277289</td>\n",
       "      <td>-0.110380</td>\n",
       "      <td>-0.144375</td>\n",
       "      <td>0.215850</td>\n",
       "    </tr>\n",
       "    <tr>\n",
       "      <th>1</th>\n",
       "      <td>0.199963</td>\n",
       "      <td>-0.102350</td>\n",
       "      <td>-0.032760</td>\n",
       "      <td>0.326545</td>\n",
       "    </tr>\n",
       "    <tr>\n",
       "      <th>2</th>\n",
       "      <td>0.399169</td>\n",
       "      <td>-0.038310</td>\n",
       "      <td>0.142122</td>\n",
       "      <td>0.168789</td>\n",
       "    </tr>\n",
       "    <tr>\n",
       "      <th>3</th>\n",
       "      <td>-0.271000</td>\n",
       "      <td>-0.047276</td>\n",
       "      <td>0.357934</td>\n",
       "      <td>-0.020955</td>\n",
       "    </tr>\n",
       "  </tbody>\n",
       "</table>\n",
       "</div>"
      ],
      "text/plain": [
       "            U         D         L         R\n",
       "0 0  0.407331  0.253316 -0.065939  0.601829\n",
       "  1 -0.028964  0.600116  0.407420  0.792578\n",
       "  2  0.793432  0.784463  0.561426  1.000000\n",
       "  3  0.000000  0.000000  0.000000  0.000000\n",
       "1 0  0.425737  0.123929 -0.120339  0.276312\n",
       "  2  0.752032  0.087760  0.577207 -0.998383\n",
       "  3  0.000000  0.000000  0.000000  0.000000\n",
       "2 0  0.277289 -0.110380 -0.144375  0.215850\n",
       "  1  0.199963 -0.102350 -0.032760  0.326545\n",
       "  2  0.399169 -0.038310  0.142122  0.168789\n",
       "  3 -0.271000 -0.047276  0.357934 -0.020955"
      ]
     },
     "execution_count": 38,
     "metadata": {},
     "output_type": "execute_result"
    }
   ],
   "source": [
    "Q"
   ]
  },
  {
   "cell_type": "code",
   "execution_count": 37,
   "id": "31a7bdef-8e9a-4be8-b724-8695760c796d",
   "metadata": {},
   "outputs": [
    {
     "name": "stdout",
     "output_type": "stream",
     "text": [
      "Update frequency\n"
     ]
    },
    {
     "data": {
      "text/html": [
       "<div>\n",
       "<style scoped>\n",
       "    .dataframe tbody tr th:only-of-type {\n",
       "        vertical-align: middle;\n",
       "    }\n",
       "\n",
       "    .dataframe tbody tr th {\n",
       "        vertical-align: top;\n",
       "    }\n",
       "\n",
       "    .dataframe thead th {\n",
       "        text-align: right;\n",
       "    }\n",
       "</style>\n",
       "<table border=\"1\" class=\"dataframe\">\n",
       "  <thead>\n",
       "    <tr style=\"text-align: right;\">\n",
       "      <th></th>\n",
       "      <th>0</th>\n",
       "      <th>1</th>\n",
       "      <th>2</th>\n",
       "      <th>3</th>\n",
       "    </tr>\n",
       "  </thead>\n",
       "  <tbody>\n",
       "    <tr>\n",
       "      <th>0</th>\n",
       "      <td>0.326195</td>\n",
       "      <td>0.848322</td>\n",
       "      <td>0.765929</td>\n",
       "      <td>0.0</td>\n",
       "    </tr>\n",
       "    <tr>\n",
       "      <th>1</th>\n",
       "      <td>0.326881</td>\n",
       "      <td>0.000000</td>\n",
       "      <td>0.111817</td>\n",
       "      <td>0.0</td>\n",
       "    </tr>\n",
       "    <tr>\n",
       "      <th>2</th>\n",
       "      <td>0.346923</td>\n",
       "      <td>0.151678</td>\n",
       "      <td>0.122254</td>\n",
       "      <td>1.0</td>\n",
       "    </tr>\n",
       "  </tbody>\n",
       "</table>\n",
       "</div>"
      ],
      "text/plain": [
       "          0         1         2    3\n",
       "0  0.326195  0.848322  0.765929  0.0\n",
       "1  0.326881  0.000000  0.111817  0.0\n",
       "2  0.346923  0.151678  0.122254  1.0"
      ]
     },
     "execution_count": 37,
     "metadata": {},
     "output_type": "execute_result"
    }
   ],
   "source": [
    "print('Update frequency')\n",
    "state_sample_count / state_sample_count.sum()"
   ]
  },
  {
   "cell_type": "code",
   "execution_count": 40,
   "id": "f5ddd866-849e-4147-9198-b71d23c6a28c",
   "metadata": {},
   "outputs": [
    {
     "data": {
      "text/plain": [
       "0.9999999999999996"
      ]
     },
     "execution_count": 40,
     "metadata": {},
     "output_type": "execute_result"
    }
   ],
   "source": [
    "np.max(Q.values)"
   ]
  },
  {
   "cell_type": "code",
   "execution_count": null,
   "id": "de798387-05d8-4cf1-ae15-7cdeab38e4a4",
   "metadata": {},
   "outputs": [],
   "source": []
  }
 ],
 "metadata": {
  "kernelspec": {
   "display_name": "data_science",
   "language": "python",
   "name": "data_science"
  },
  "language_info": {
   "codemirror_mode": {
    "name": "ipython",
    "version": 3
   },
   "file_extension": ".py",
   "mimetype": "text/x-python",
   "name": "python",
   "nbconvert_exporter": "python",
   "pygments_lexer": "ipython3",
   "version": "3.10.9"
  }
 },
 "nbformat": 4,
 "nbformat_minor": 5
}
