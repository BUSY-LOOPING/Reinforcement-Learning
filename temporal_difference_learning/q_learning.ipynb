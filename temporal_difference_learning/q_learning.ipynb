{
 "cells": [
  {
   "cell_type": "code",
   "execution_count": 1,
   "id": "43e15ff6-7291-41d1-aaf3-b7e9ef2e9b3b",
   "metadata": {},
   "outputs": [
    {
     "name": "stdout",
     "output_type": "stream",
     "text": [
      "importing Jupyter notebook from grid_world.ipynb\n",
      "importing Jupyter notebook from iterative_policy_evaluation_deterministic.ipynb\n"
     ]
    }
   ],
   "source": [
    "import numpy as np\n",
    "import matplotlib.pyplot as plt\n",
    "import os\n",
    "import pandas as pd\n",
    "os.chdir(os.path.join('..', 'dynamic_programming'))\n",
    "import import_ipynb\n",
    "from grid_world import standard_grid, negative_grid, ACTION_SPACE\n",
    "from iterative_policy_evaluation_deterministic import print_policy, print_values"
   ]
  },
  {
   "cell_type": "code",
   "execution_count": 2,
   "id": "ad6105f5-0747-4bcc-a380-f17945d9db82",
   "metadata": {},
   "outputs": [],
   "source": [
    "GAMMA = 0.9\n",
    "ALPHA = 0.1\n",
    "SMALL_ENOUGH = 1e-5"
   ]
  },
  {
   "cell_type": "code",
   "execution_count": 3,
   "id": "30d5b19c-49b4-4238-bbb0-1d67463f948f",
   "metadata": {},
   "outputs": [],
   "source": [
    "def epsilon_greedy(greedy_policy, grid, eps = 0.1) :\n",
    "    if np.random.random() < (1 - eps) :\n",
    "        indices = np.where(greedy_policy == np.max(greedy_policy))[0]\n",
    "        return ACTION_SPACE[np.random.choice(indices)]\n",
    "    else :\n",
    "        return np.random.choice(grid.actions[s])"
   ]
  },
  {
   "cell_type": "code",
   "execution_count": 4,
   "id": "2b0ea37d-b0c1-46a3-8977-26bb327128ff",
   "metadata": {},
   "outputs": [
    {
     "name": "stdout",
     "output_type": "stream",
     "text": [
      "Rewards\n",
      "+--------+--------+--------+--------+\n",
      "| -0.100 | -0.100 | -0.100 |  1.000 |\n",
      "+--------+--------+--------+--------+\n",
      "| -0.100 |  0.000 | -0.100 | -1.000 |\n",
      "+--------+--------+--------+--------+\n",
      "| -0.100 | -0.100 | -0.100 | -0.100 |\n",
      "+--------+--------+--------+--------+\n",
      "Policy\n",
      "+---+---+---+---+\n",
      "| R | R | R |   |\n",
      "+---+---+---+---+\n",
      "| U |   | U |   |\n",
      "+---+---+---+---+\n",
      "| U | R | U | L |\n",
      "+---+---+---+---+\n",
      "Values\n",
      "+-------+-------+-------+-------+\n",
      "| 0.620 | 0.800 | 1.000 | 0.000 |\n",
      "+-------+-------+-------+-------+\n",
      "| 0.458 | 0.000 | 0.800 | 0.000 |\n",
      "+-------+-------+-------+-------+\n",
      "| 0.312 | 0.458 | 0.620 | 0.458 |\n",
      "+-------+-------+-------+-------+\n"
     ]
    },
    {
     "data": {
      "image/png": "[encoded data removed]",
      "text/plain": [
       "<Figure size 640x480 with 1 Axes>"
      ]
     },
     "metadata": {},
     "output_type": "display_data"
    }
   ],
   "source": [
    "if __name__ == '__main__' :\n",
    "    grid = negative_grid()\n",
    "    \n",
    "    print('Rewards')\n",
    "    print_values(grid.rewards, grid)\n",
    "    \n",
    "    Q = pd.DataFrame(0,index=pd.Index(grid.all_states()), columns=ACTION_SPACE)\n",
    "    Q = Q.sort_index()\n",
    "    \n",
    "    reward_per_episode = []\n",
    "    state_sample_count = pd.DataFrame(np.zeros((3, 4)), dtype=np.int32)\n",
    "    for i in range(10000) :\n",
    "        s = grid.reset()\n",
    "        a = epsilon_greedy(Q.loc[s, :], grid, eps = 0.1)\n",
    "        \n",
    "        epsiode_reward = 0\n",
    "        while not grid.game_over():\n",
    "            state_sample_count.iloc[s] = state_sample_count.iloc[s] + 1\n",
    "            r = grid.move(a)\n",
    "            s_next = grid.current_state()\n",
    "            a_next = epsilon_greedy(Q.loc[s_next, :], grid, eps = 0.1)\n",
    "            Q_old = Q.loc[s, a]\n",
    "            Q.loc[s, a] = Q.loc[s, a] + ALPHA * (r + GAMMA * Q.loc[s_next, :].values.max() - Q.loc[s, a])\n",
    "            s = s_next\n",
    "            a = a_next\n",
    "            epsiode_reward += r\n",
    "        reward_per_episode.append(r)\n",
    "    \n",
    "    V = {}\n",
    "    policy = {}\n",
    "    for i, row in Q.iterrows():\n",
    "        V[i] = np.max(row)\n",
    "        if not grid.is_terminal(i) :\n",
    "            policy[i] = ACTION_SPACE[np.argmax(row)]\n",
    "        \n",
    "    print('Policy')\n",
    "    print_policy(policy, grid)\n",
    "    \n",
    "    print('Values')\n",
    "    print_values(V, grid)\n",
    "    \n",
    "    plt.plot(reward_per_episode)\n",
    "    plt.title('Rewards per episode')\n",
    "    \n",
    "    "
   ]
  },
  {
   "cell_type": "code",
   "execution_count": 5,
   "id": "e4e4a74a-d293-4d72-a04c-95330b2aa9d9",
   "metadata": {},
   "outputs": [
    {
     "data": {
      "text/html": [
       "<div>\n",
       "<style scoped>\n",
       "    .dataframe tbody tr th:only-of-type {\n",
       "        vertical-align: middle;\n",
       "    }\n",
       "\n",
       "    .dataframe tbody tr th {\n",
       "        vertical-align: top;\n",
       "    }\n",
       "\n",
       "    .dataframe thead th {\n",
       "        text-align: right;\n",
       "    }\n",
       "</style>\n",
       "<table border=\"1\" class=\"dataframe\">\n",
       "  <thead>\n",
       "    <tr style=\"text-align: right;\">\n",
       "      <th></th>\n",
       "      <th></th>\n",
       "      <th>U</th>\n",
       "      <th>D</th>\n",
       "      <th>L</th>\n",
       "      <th>R</th>\n",
       "    </tr>\n",
       "  </thead>\n",
       "  <tbody>\n",
       "    <tr>\n",
       "      <th rowspan=\"4\" valign=\"top\">0</th>\n",
       "      <th>0</th>\n",
       "      <td>0.458000</td>\n",
       "      <td>0.312200</td>\n",
       "      <td>0.082642</td>\n",
       "      <td>0.620000</td>\n",
       "    </tr>\n",
       "    <tr>\n",
       "      <th>1</th>\n",
       "      <td>-0.019000</td>\n",
       "      <td>0.620000</td>\n",
       "      <td>0.456658</td>\n",
       "      <td>0.800000</td>\n",
       "    </tr>\n",
       "    <tr>\n",
       "      <th>2</th>\n",
       "      <td>0.786861</td>\n",
       "      <td>0.785402</td>\n",
       "      <td>0.620000</td>\n",
       "      <td>1.000000</td>\n",
       "    </tr>\n",
       "    <tr>\n",
       "      <th>3</th>\n",
       "      <td>0.000000</td>\n",
       "      <td>0.000000</td>\n",
       "      <td>0.000000</td>\n",
       "      <td>0.000000</td>\n",
       "    </tr>\n",
       "    <tr>\n",
       "      <th rowspan=\"3\" valign=\"top\">1</th>\n",
       "      <th>0</th>\n",
       "      <td>0.458000</td>\n",
       "      <td>0.177856</td>\n",
       "      <td>-0.102977</td>\n",
       "      <td>0.312200</td>\n",
       "    </tr>\n",
       "    <tr>\n",
       "      <th>2</th>\n",
       "      <td>0.800000</td>\n",
       "      <td>-0.010900</td>\n",
       "      <td>0.612800</td>\n",
       "      <td>-0.994846</td>\n",
       "    </tr>\n",
       "    <tr>\n",
       "      <th>3</th>\n",
       "      <td>0.000000</td>\n",
       "      <td>0.000000</td>\n",
       "      <td>0.000000</td>\n",
       "      <td>0.000000</td>\n",
       "    </tr>\n",
       "    <tr>\n",
       "      <th rowspan=\"4\" valign=\"top\">2</th>\n",
       "      <th>0</th>\n",
       "      <td>0.312200</td>\n",
       "      <td>-0.048636</td>\n",
       "      <td>-0.169547</td>\n",
       "      <td>0.312200</td>\n",
       "    </tr>\n",
       "    <tr>\n",
       "      <th>1</th>\n",
       "      <td>0.311670</td>\n",
       "      <td>-0.111592</td>\n",
       "      <td>-0.086155</td>\n",
       "      <td>0.458000</td>\n",
       "    </tr>\n",
       "    <tr>\n",
       "      <th>2</th>\n",
       "      <td>0.620000</td>\n",
       "      <td>-0.057699</td>\n",
       "      <td>0.311958</td>\n",
       "      <td>0.310205</td>\n",
       "    </tr>\n",
       "    <tr>\n",
       "      <th>3</th>\n",
       "      <td>-0.409510</td>\n",
       "      <td>-0.038595</td>\n",
       "      <td>0.457706</td>\n",
       "      <td>0.115072</td>\n",
       "    </tr>\n",
       "  </tbody>\n",
       "</table>\n",
       "</div>"
      ],
      "text/plain": [
       "            U         D         L         R\n",
       "0 0  0.458000  0.312200  0.082642  0.620000\n",
       "  1 -0.019000  0.620000  0.456658  0.800000\n",
       "  2  0.786861  0.785402  0.620000  1.000000\n",
       "  3  0.000000  0.000000  0.000000  0.000000\n",
       "1 0  0.458000  0.177856 -0.102977  0.312200\n",
       "  2  0.800000 -0.010900  0.612800 -0.994846\n",
       "  3  0.000000  0.000000  0.000000  0.000000\n",
       "2 0  0.312200 -0.048636 -0.169547  0.312200\n",
       "  1  0.311670 -0.111592 -0.086155  0.458000\n",
       "  2  0.620000 -0.057699  0.311958  0.310205\n",
       "  3 -0.409510 -0.038595  0.457706  0.115072"
      ]
     },
     "execution_count": 5,
     "metadata": {},
     "output_type": "execute_result"
    }
   ],
   "source": [
    "Q"
   ]
  },
  {
   "cell_type": "code",
   "execution_count": 6,
   "id": "31a7bdef-8e9a-4be8-b724-8695760c796d",
   "metadata": {},
   "outputs": [
    {
     "name": "stdout",
     "output_type": "stream",
     "text": [
      "Update frequency\n"
     ]
    },
    {
     "data": {
      "text/html": [
       "<div>\n",
       "<style scoped>\n",
       "    .dataframe tbody tr th:only-of-type {\n",
       "        vertical-align: middle;\n",
       "    }\n",
       "\n",
       "    .dataframe tbody tr th {\n",
       "        vertical-align: top;\n",
       "    }\n",
       "\n",
       "    .dataframe thead th {\n",
       "        text-align: right;\n",
       "    }\n",
       "</style>\n",
       "<table border=\"1\" class=\"dataframe\">\n",
       "  <thead>\n",
       "    <tr style=\"text-align: right;\">\n",
       "      <th></th>\n",
       "      <th>0</th>\n",
       "      <th>1</th>\n",
       "      <th>2</th>\n",
       "      <th>3</th>\n",
       "    </tr>\n",
       "  </thead>\n",
       "  <tbody>\n",
       "    <tr>\n",
       "      <th>0</th>\n",
       "      <td>0.328661</td>\n",
       "      <td>0.861545</td>\n",
       "      <td>0.781201</td>\n",
       "      <td>0.0</td>\n",
       "    </tr>\n",
       "    <tr>\n",
       "      <th>1</th>\n",
       "      <td>0.327539</td>\n",
       "      <td>0.000000</td>\n",
       "      <td>0.105035</td>\n",
       "      <td>0.0</td>\n",
       "    </tr>\n",
       "    <tr>\n",
       "      <th>2</th>\n",
       "      <td>0.343800</td>\n",
       "      <td>0.138455</td>\n",
       "      <td>0.113764</td>\n",
       "      <td>1.0</td>\n",
       "    </tr>\n",
       "  </tbody>\n",
       "</table>\n",
       "</div>"
      ],
      "text/plain": [
       "          0         1         2    3\n",
       "0  0.328661  0.861545  0.781201  0.0\n",
       "1  0.327539  0.000000  0.105035  0.0\n",
       "2  0.343800  0.138455  0.113764  1.0"
      ]
     },
     "execution_count": 6,
     "metadata": {},
     "output_type": "execute_result"
    }
   ],
   "source": [
    "print('Update frequency')\n",
    "state_sample_count / state_sample_count.sum()"
   ]
  },
  {
   "cell_type": "code",
   "execution_count": null,
   "id": "f5ddd866-849e-4147-9198-b71d23c6a28c",
   "metadata": {},
   "outputs": [],
   "source": []
  }
 ],
 "metadata": {
  "kernelspec": {
   "display_name": "data_science",
   "language": "python",
   "name": "data_science"
  },
  "language_info": {
   "codemirror_mode": {
    "name": "ipython",
    "version": 3
   },
   "file_extension": ".py",
   "mimetype": "text/x-python",
   "name": "python",
   "nbconvert_exporter": "python",
   "pygments_lexer": "ipython3",
   "version": "3.10.9"
  }
 },
 "nbformat": 4,
 "nbformat_minor": 5
}
