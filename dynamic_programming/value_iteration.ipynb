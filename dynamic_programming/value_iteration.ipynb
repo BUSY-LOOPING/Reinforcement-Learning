{
 "cells": [
  {
   "cell_type": "code",
   "execution_count": 7,
   "id": "66d51274-7d62-4348-86b1-3a2859581007",
   "metadata": {},
   "outputs": [
    {
     "name": "stdout",
     "output_type": "stream",
     "text": [
      "importing Jupyter notebook from iterative_policy_evaluation_probabilistic.ipynb\n"
     ]
    }
   ],
   "source": [
    "import numpy as np\n",
    "\n",
    "import import_ipynb\n",
    "from grid_world import windy_grid, ACTION_SPACE\n",
    "from iterative_policy_evaluation_probabilistic import print_values, print_policy"
   ]
  },
  {
   "cell_type": "code",
   "execution_count": 2,
   "id": "b1bd811b-7f7c-4367-b8b6-a3d760a79e24",
   "metadata": {},
   "outputs": [],
   "source": [
    "SMALL_ENOGH = 1e-3\n",
    "GAMMA = 0.9"
   ]
  },
  {
   "cell_type": "code",
   "execution_count": 15,
   "id": "6be79799-59d8-48a5-b98c-5243309c1ecd",
   "metadata": {},
   "outputs": [],
   "source": [
    "def get_transition_probs_and_rewards(grid) :\n",
    "    transition_probs = {}\n",
    "    rewards = {}\n",
    "    for (s, a), v in grid.probs.items() :\n",
    "        for s2, p in v.items() :\n",
    "            transition_probs[(s, a, s2)] = p\n",
    "            rewards[(s, a, s2)] = grid.rewards.get(s2, 0)\n",
    "            \n",
    "    return transition_probs, rewards"
   ]
  },
  {
   "cell_type": "code",
   "execution_count": 16,
   "id": "f87145bb-fd41-4f88-a284-95c952a950f8",
   "metadata": {},
   "outputs": [
    {
     "name": "stdout",
     "output_type": "stream",
     "text": [
      "Values\n",
      "+-------+-------+-------+-------+\n",
      "| 0.810 | 0.900 | 1.000 | 0.000 |\n",
      "+-------+-------+-------+-------+\n",
      "| 0.729 | 0.000 | 0.478 | 0.000 |\n",
      "+-------+-------+-------+-------+\n",
      "| 0.656 | 0.590 | 0.531 | 0.478 |\n",
      "+-------+-------+-------+-------+\n",
      "Policy\n",
      "+---+---+---+---+\n",
      "| R | R | R |   |\n",
      "+---+---+---+---+\n",
      "| U |   | D |   |\n",
      "+---+---+---+---+\n",
      "| U | L | L | L |\n",
      "+---+---+---+---+\n"
     ]
    }
   ],
   "source": [
    "if __name__ == '__main__' :\n",
    "    grid = windy_grid()\n",
    "    transition_probs, rewards = get_transition_probs_and_rewards(grid)\n",
    "    \n",
    "    V = {}\n",
    "    for s in grid.all_states() :\n",
    "        V[s] = 0\n",
    "        \n",
    "    while True :\n",
    "        biggest_change = 0\n",
    "        \n",
    "        for s in grid.actions.keys() :\n",
    "            old_v = V[s]\n",
    "            new_v = float('-inf')\n",
    "\n",
    "            for a in ACTION_SPACE :\n",
    "                v = 0\n",
    "                for s2 in grid.all_states() :\n",
    "                    r = rewards.get((s, a, s2), 0)\n",
    "                    v += transition_probs.get((s, a, s2), 0) * (r + GAMMA * V[s2])\n",
    "                if v > new_v :\n",
    "                    new_v = v\n",
    "                    \n",
    "            V[s] = new_v\n",
    "            biggest_change = max(biggest_change, np.abs(old_v - V[s]))\n",
    "            \n",
    "        if biggest_change < SMALL_ENOGH :\n",
    "            break\n",
    "    \n",
    "    #find the optimal policy\n",
    "    policy = {}\n",
    "    for s in grid.actions.keys() :\n",
    "        best_a = None\n",
    "        best_value = float('-inf')\n",
    "        \n",
    "        for a in ACTION_SPACE :\n",
    "            v = 0\n",
    "            for s2 in grid.all_states() :\n",
    "                r = rewards.get((s, a, s2), 0)\n",
    "                v += transition_probs.get((s, a, s2), 0) * (r + GAMMA * V[s2])\n",
    "            if v > best_value :\n",
    "                best_value = v\n",
    "                best_a = a\n",
    "        policy[s] = best_a\n",
    "        \n",
    "    print('Values')\n",
    "    print_values(V, grid)\n",
    "    print('Policy')\n",
    "    print_policy(policy, grid)"
   ]
  },
  {
   "cell_type": "code",
   "execution_count": null,
   "id": "d1db0485-f6d7-4251-bd24-0ce8fd3c506d",
   "metadata": {},
   "outputs": [],
   "source": []
  }
 ],
 "metadata": {
  "kernelspec": {
   "display_name": "data_science",
   "language": "python",
   "name": "data_science"
  },
  "language_info": {
   "codemirror_mode": {
    "name": "ipython",
    "version": 3
   },
   "file_extension": ".py",
   "mimetype": "text/x-python",
   "name": "python",
   "nbconvert_exporter": "python",
   "pygments_lexer": "ipython3",
   "version": "3.10.9"
  }
 },
 "nbformat": 4,
 "nbformat_minor": 5
}
