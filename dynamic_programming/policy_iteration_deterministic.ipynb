{
 "cells": [
  {
   "cell_type": "code",
   "execution_count": 1,
   "id": "80109cb6-b69c-41d5-9fc6-4e238bbb488a",
   "metadata": {},
   "outputs": [
    {
     "name": "stdout",
     "output_type": "stream",
     "text": [
      "importing Jupyter notebook from grid_world.ipynb\n",
      "importing Jupyter notebook from iterative_policy_evaluation_deterministic.ipynb\n"
     ]
    }
   ],
   "source": [
    "import numpy as np\n",
    "\n",
    "import import_ipynb\n",
    "from grid_world import ACTION_SPACE, standard_grid\n",
    "from iterative_policy_evaluation_deterministic import print_values, print_policy"
   ]
  },
  {
   "cell_type": "code",
   "execution_count": 35,
   "id": "aa957dea-d913-435a-840f-3daf5ed1fead",
   "metadata": {},
   "outputs": [],
   "source": [
    "SMALL_ENOUGH = 1e-3\n",
    "GAMMA = 0.9"
   ]
  },
  {
   "cell_type": "code",
   "execution_count": 51,
   "id": "37acfb56-7917-44c9-8974-3f507c4a761f",
   "metadata": {},
   "outputs": [],
   "source": [
    "def get_transition_probs_and_rewards(grid) :\n",
    "    #key is (s, a, s')\n",
    "    #transition_probs[(s, a, s')] = p(s' | s, a)\n",
    "    #any key not present will be considered to have a prob of 0\n",
    "    transition_probs = {}\n",
    "    \n",
    "    #use deterministic rewards\n",
    "    #rewards[(s, a, s')] or rewards[s']\n",
    "    rewards = {}\n",
    "    for i in range(grid.rows) :\n",
    "        for j in range(grid.cols) :\n",
    "            s = (i, j)\n",
    "            if not grid.is_terminal(s) :\n",
    "                for a in ACTION_SPACE :\n",
    "                    s2 = grid.get_next_state(s, a)\n",
    "                    transition_probs[(s, a, s2)] = 1\n",
    "                    if s2 in grid.rewards:\n",
    "                        rewards[(s, a, s2)] = grid.rewards[s2]  \n",
    "    return transition_probs, rewards\n",
    "\n",
    "def evaluate_deterministic_policy(grid, policy) :\n",
    "    #initialize V(s) = 0\n",
    "    V = {}\n",
    "    for s in grid.all_states() :\n",
    "        V[s] = 0\n",
    "        \n",
    "    gamma = 0.9 #discount factor\n",
    "    it = 0\n",
    "    #repeat till convergance\n",
    "    while True:\n",
    "        biggest_change = 0\n",
    "        for s in grid.actions :\n",
    "            V_old = V[s]\n",
    "            V_new = 0 #this will accumulate the answer\n",
    "            for a in ACTION_SPACE :\n",
    "                for s2 in grid.all_states() : \n",
    "                    #action probability\n",
    "                    action_prob = 1 if policy.get(s) == a else 0\n",
    "                    \n",
    "                    #reward\n",
    "                    r = rewards.get((s, a, s2), 0)\n",
    "                    \n",
    "                    V_new += action_prob * transition_probs.get((s, a, s2), 0) * (r + gamma * V[s2])\n",
    "            V[s] = V_new\n",
    "            biggest_change = max(biggest_change, np.abs(V_old - V_new))\n",
    "        #print(f'Iter {it}, biggest change {biggest_change}')\n",
    "        #print_values(V, grid)\n",
    "        it += 1\n",
    "        if biggest_change < SMALL_ENOUGH :\n",
    "            break\n",
    "    return V"
   ]
  },
  {
   "cell_type": "code",
   "execution_count": 59,
   "id": "1a1fc1be-50b5-4486-bf68-8b63b0c8058f",
   "metadata": {},
   "outputs": [
    {
     "name": "stdout",
     "output_type": "stream",
     "text": [
      "Rewards\n",
      "+---+---+---+----+\n",
      "| 0 | 0 | 0 |  1 |\n",
      "+---+---+---+----+\n",
      "| 0 | 0 | 0 | -1 |\n",
      "+---+---+---+----+\n",
      "| 0 | 0 | 0 |  0 |\n",
      "+---+---+---+----+\n",
      "Initial Policy\n",
      "+---+---+---+---+\n",
      "| L | U | D |   |\n",
      "+---+---+---+---+\n",
      "| D |   | L |   |\n",
      "+---+---+---+---+\n",
      "| L | D | R | R |\n",
      "+---+---+---+---+\n",
      "Final values\n",
      "+-------+-------+-------+-------+\n",
      "| 0.810 | 0.900 | 1.000 | 0.000 |\n",
      "+-------+-------+-------+-------+\n",
      "| 0.729 | 0.000 | 0.900 | 0.000 |\n",
      "+-------+-------+-------+-------+\n",
      "| 0.656 | 0.729 | 0.810 | 0.729 |\n",
      "+-------+-------+-------+-------+\n",
      "Final Policy\n",
      "+---+---+---+---+\n",
      "| R | R | R |   |\n",
      "+---+---+---+---+\n",
      "| U |   | U |   |\n",
      "+---+---+---+---+\n",
      "| U | R | U | L |\n",
      "+---+---+---+---+\n"
     ]
    }
   ],
   "source": [
    "if __name__ == '__main__' :\n",
    "    grid = standard_grid()\n",
    "    \n",
    "    transition_probs, rewards = get_transition_probs_and_rewards(grid)\n",
    "    \n",
    "    print('Rewards')\n",
    "    print_values(grid.rewards, grid)\n",
    "    \n",
    "    policy = {}\n",
    "    for s in grid.actions.keys() :\n",
    "        policy[s] = np.random.choice(ACTION_SPACE)\n",
    "    \n",
    "    #initial random policy\n",
    "    print('Initial Policy')\n",
    "    print_policy(policy, grid)\n",
    "    \n",
    "    while True :\n",
    "        delta = 0\n",
    "        #policy evaluation\n",
    "        V = evaluate_deterministic_policy(grid, policy)\n",
    "            \n",
    "        #policy improvement step\n",
    "        is_policy_stable = True\n",
    "        for s in grid.actions.keys() : #all_non_terminal_states\n",
    "            A_old = policy[s]\n",
    "            A_new_prob_over_a = [0 for i in ACTION_SPACE]\n",
    "            for count_a, a in enumerate(ACTION_SPACE) :\n",
    "                for s2 in grid.all_states() :\n",
    "                    A_new_prob_over_a[count_a] += transition_probs.get((s, a, s2), 0) * (rewards.get((s, a, s2), 0) + GAMMA * V[s2])\n",
    "            A_new = np.argmax(A_new_prob_over_a)\n",
    "            policy[s] = ACTION_SPACE[A_new]\n",
    "            if A_old != policy[s] : \n",
    "                is_policy_stable = False\n",
    "        \n",
    "        if is_policy_stable :\n",
    "            break\n",
    "            \n",
    "    #final values\n",
    "    print('Final values')\n",
    "    print_values(V, grid)\n",
    "    #final policy\n",
    "    print('Final Policy')\n",
    "    print_policy(policy, grid)"
   ]
  },
  {
   "cell_type": "code",
   "execution_count": null,
   "id": "57b3c5b5-8f3b-4ba5-b685-3db6d8909b67",
   "metadata": {},
   "outputs": [],
   "source": []
  }
 ],
 "metadata": {
  "kernelspec": {
   "display_name": "data_science",
   "language": "python",
   "name": "data_science"
  },
  "language_info": {
   "codemirror_mode": {
    "name": "ipython",
    "version": 3
   },
   "file_extension": ".py",
   "mimetype": "text/x-python",
   "name": "python",
   "nbconvert_exporter": "python",
   "pygments_lexer": "ipython3",
   "version": "3.10.9"
  }
 },
 "nbformat": 4,
 "nbformat_minor": 5
}
