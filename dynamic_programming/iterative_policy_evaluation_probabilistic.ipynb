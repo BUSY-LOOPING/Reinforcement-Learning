{
 "cells": [
  {
   "cell_type": "code",
   "execution_count": 1,
   "id": "46eb5ec6-752c-4d8e-900e-0fcd995ca6dc",
   "metadata": {},
   "outputs": [
    {
     "name": "stdout",
     "output_type": "stream",
     "text": [
      "importing Jupyter notebook from grid_world.ipynb\n"
     ]
    }
   ],
   "source": [
    "import numpy as np\n",
    "\n",
    "import import_ipynb\n",
    "from grid_world import ACTION_SPACE, windy_grid\n",
    "from tabulate import tabulate"
   ]
  },
  {
   "cell_type": "code",
   "execution_count": 6,
   "id": "32f84293-df83-4e2c-bc21-59547f27f7d5",
   "metadata": {},
   "outputs": [],
   "source": [
    "SMALL_ENOUGH = 1e-3"
   ]
  },
  {
   "cell_type": "code",
   "execution_count": 7,
   "id": "7ca2c0ce-43df-480e-b8ab-2f3ec7d63024",
   "metadata": {},
   "outputs": [],
   "source": [
    "def print_values(V, g) :\n",
    "    table = []\n",
    "    for i in range(g.rows) :\n",
    "        row = []\n",
    "        for j in range(g.cols) :\n",
    "            v = V.get((i, j), 0)\n",
    "            row.append(v)\n",
    "        table.append(row)\n",
    "    print(tabulate(table, tablefmt=\"grid\", floatfmt=\".3f\"))\n",
    "        \n",
    "def print_policy(P, g) :\n",
    "    table = []\n",
    "    for i in range(g.rows) :\n",
    "        row = []\n",
    "        for j in range(g.cols) :\n",
    "            a = P.get((i, j), ' ')\n",
    "            row.append(a)\n",
    "        table.append(row)\n",
    "    print(tabulate(table, tablefmt=\"grid\")) "
   ]
  },
  {
   "cell_type": "code",
   "execution_count": 9,
   "id": "4f772265-73e9-40af-a83e-62629b43bf27",
   "metadata": {},
   "outputs": [
    {
     "name": "stdout",
     "output_type": "stream",
     "text": [
      "+----------------------+------------+------------+------------+\n",
      "| {'R': 1.0}           | {'R': 1.0} | {'R': 1.0} |            |\n",
      "+----------------------+------------+------------+------------+\n",
      "| {'U': 1.0}           |            | {'U': 1.0} |            |\n",
      "+----------------------+------------+------------+------------+\n",
      "| {'U': 0.5, 'R': 0.5} | {'R': 1.0} | {'U': 1.0} | {'L': 1.0} |\n",
      "+----------------------+------------+------------+------------+\n",
      "Iter 0, biggest change 1.0\n",
      "+-------+-------+--------+--------+\n",
      "| 0.000 | 0.000 |  1.000 |  0.000 |\n",
      "+-------+-------+--------+--------+\n",
      "| 0.000 | 0.000 | -0.050 |  0.000 |\n",
      "+-------+-------+--------+--------+\n",
      "| 0.000 | 0.000 | -0.045 | -0.040 |\n",
      "+-------+-------+--------+--------+\n",
      "Iter 1, biggest change 0.9\n",
      "+-------+--------+--------+--------+\n",
      "| 0.000 |  0.900 |  1.000 |  0.000 |\n",
      "+-------+--------+--------+--------+\n",
      "| 0.000 |  0.000 | -0.050 |  0.000 |\n",
      "+-------+--------+--------+--------+\n",
      "| 0.000 | -0.040 | -0.045 | -0.040 |\n",
      "+-------+--------+--------+--------+\n",
      "Iter 2, biggest change 0.81\n",
      "+-------+--------+--------+--------+\n",
      "| 0.810 |  0.900 |  1.000 |  0.000 |\n",
      "+-------+--------+--------+--------+\n",
      "| 0.729 |  0.000 | -0.050 |  0.000 |\n",
      "+-------+--------+--------+--------+\n",
      "| 0.310 | -0.040 | -0.045 | -0.040 |\n",
      "+-------+--------+--------+--------+\n",
      "Iter 3, biggest change 0\n",
      "+-------+--------+--------+--------+\n",
      "| 0.810 |  0.900 |  1.000 |  0.000 |\n",
      "+-------+--------+--------+--------+\n",
      "| 0.729 |  0.000 | -0.050 |  0.000 |\n",
      "+-------+--------+--------+--------+\n",
      "| 0.310 | -0.040 | -0.045 | -0.040 |\n",
      "+-------+--------+--------+--------+\n",
      "\n",
      "\n",
      "\n"
     ]
    }
   ],
   "source": [
    "if __name__ == '__main__' :\n",
    "    #key is (s, a, s')\n",
    "    #transition_probs[(s, a, s')] = p(s' | s, a)\n",
    "    #any key not present will be considered to have a prob of 0\n",
    "    transition_probs = {}\n",
    "    \n",
    "    #use deterministic rewards\n",
    "    #rewards[(s, a, s')] or rewards[s']\n",
    "    rewards = {}\n",
    "    grid = windy_grid()\n",
    "    for (s, a), v in grid.probs.items() : #(i, j) = s, #v = {s2 : p}\n",
    "        for s2, p in v.items() :\n",
    "            transition_probs[(s, a, s2)] = p\n",
    "            rewards[(s, a, s2)] = grid.rewards.get(s2, 0)                       \n",
    "                        \n",
    "    ###PROB POLICY####\n",
    "    policy = {\n",
    "        (2, 0) : {'U' : 0.5, 'R' : 0.5},\n",
    "        (1, 0) : {'U' : 1.0},\n",
    "        (0, 0) : {'R' : 1.0},\n",
    "        (0, 1) : {'R' : 1.0},\n",
    "        (0, 2) : {'R' : 1.0},\n",
    "        (1, 2) : {'U' : 1.0},\n",
    "        (2, 1) : {'R' : 1.0},\n",
    "        (2, 2) : {'U' : 1.0},\n",
    "        (2, 3) : {'L' : 1.0},\n",
    "    }\n",
    "    print_policy(policy, grid)\n",
    "    \n",
    "    #initialize V(s) = 0\n",
    "    V = {}\n",
    "    for s in grid.all_states() :\n",
    "        V[s] = 0\n",
    "        \n",
    "    gamma = 0.9 #discount factor\n",
    "    it = 0\n",
    "    #repeat till convergance\n",
    "    while True:\n",
    "        biggest_change = 0\n",
    "        for s in grid.actions :\n",
    "            V_old = V[s]\n",
    "            V_new = 0 #this will accumulate the answer\n",
    "            for a in ACTION_SPACE :\n",
    "                for s2 in grid.all_states() : \n",
    "                    #action probability\n",
    "                    action_prob = policy[s].get(a, 0)\n",
    "                    \n",
    "                    #reward\n",
    "                    r = rewards.get((s, a, s2), 0)\n",
    "                    \n",
    "                    V_new += action_prob * transition_probs.get((s, a, s2), 0) * (r + gamma * V[s2])\n",
    "            V[s] = V_new\n",
    "            biggest_change = max(biggest_change, np.abs(V_old - V_new))\n",
    "        print(f'Iter {it}, biggest change {biggest_change}')\n",
    "        print_values(V, grid)\n",
    "        it += 1\n",
    "        if biggest_change < SMALL_ENOUGH :\n",
    "            break\n",
    "    print('\\n\\n')"
   ]
  },
  {
   "cell_type": "code",
   "execution_count": null,
   "id": "f62b78d2-0827-456f-a437-d56c844211e2",
   "metadata": {},
   "outputs": [],
   "source": []
  }
 ],
 "metadata": {
  "kernelspec": {
   "display_name": "data_science",
   "language": "python",
   "name": "data_science"
  },
  "language_info": {
   "codemirror_mode": {
    "name": "ipython",
    "version": 3
   },
   "file_extension": ".py",
   "mimetype": "text/x-python",
   "name": "python",
   "nbconvert_exporter": "python",
   "pygments_lexer": "ipython3",
   "version": "3.10.9"
  }
 },
 "nbformat": 4,
 "nbformat_minor": 5
}
